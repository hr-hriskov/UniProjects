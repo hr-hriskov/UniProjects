{
 "cells": [
  {
   "cell_type": "code",
   "execution_count": 6,
   "id": "841603fd",
   "metadata": {},
   "outputs": [],
   "source": [
    "from module1 import *\n",
    "from module2 import *\n",
    "from module3 import *"
   ]
  },
  {
   "cell_type": "code",
   "execution_count": 7,
   "id": "a4e99e87",
   "metadata": {},
   "outputs": [],
   "source": [
    "def main():\n",
    "    # Gets table as dataframe\n",
    "    [df, table] = db_interface()\n",
    "    \n",
    "    # Creates csv file name\n",
    "    csv = str(table.split(\"_\")[1] + \".csv\")\n",
    "    \n",
    "    # Removes excessive columns and formats properly\n",
    "    [gauge1_list, gauge2_list, gauge2, gauge1] = preprocess(csv, df[\"start_times\"], 420)\n",
    "    \n",
    "    # Gets values of Gauge 2 at null points\n",
    "    gauge2_np = find_np_g2(gauge2, df[\"null_point\"])\n",
    "#     print(gauge2_np)\n",
    "#     gauge1_diff = Gauge1Diff(gauge1, df[\"null_point\"], h17_list)\n",
    "\n",
    "    # Connects to database\n",
    "    conn = sqlite3.connect('Auswertung_DB.sqlite')\n",
    "    cur = conn.cursor()\n",
    "    \n",
    "    # Plots final plots\n",
    "    for i in range(len(df)):\n",
    "        try:\n",
    "            [t1, time, t3] = plot_function(gauge1_list[i].Timeline,\n",
    "                                           gauge1_list[i].Value,\n",
    "                                           gauge2_list[i].Value,\n",
    "                                           df[\"null_point\"].iloc[i],\n",
    "                                           gauge2_np.Value.iloc[i],\n",
    "                                           None , None ,\n",
    "#                                            gauge1_diff[i],\n",
    "                                           0, i+1,\n",
    "                                           df.temperature.iloc[i])\n",
    "        except IndexError:\n",
    "            print(\"single positional indexer out-of bounds\")\n",
    "            print(gauge2_np)\n",
    "#             print(GetTable(table, conn))\n",
    "        insert_time(cur, conn, table, t1, time, t3, i+1)\n",
    "    \n",
    "    # Displays final table\n",
    "    new_df = get_table(table, conn)\n",
    "    print(new_df)\n",
    "    \n",
    "    conn.close()"
   ]
  },
  {
   "cell_type": "code",
   "execution_count": 9,
   "id": "a88450c4",
   "metadata": {
    "scrolled": false
   },
   "outputs": [
    {
     "ename": "IndentationError",
     "evalue": "expected an indented block (2363298107.py, line 3)",
     "output_type": "error",
     "traceback": [
      "\u001b[0;36m  File \u001b[0;32m\"/tmp/ipykernel_53426/2363298107.py\"\u001b[0;36m, line \u001b[0;32m3\u001b[0m\n\u001b[0;31m    #     main()\u001b[0m\n\u001b[0m                ^\u001b[0m\n\u001b[0;31mIndentationError\u001b[0m\u001b[0;31m:\u001b[0m expected an indented block\n"
     ]
    }
   ],
   "source": [
    "# Shows final plots\n",
    "if __name__ == \"__main__\":\n",
    "    main()"
   ]
  },
  {
   "cell_type": "code",
   "execution_count": null,
   "id": "82b460bd",
   "metadata": {},
   "outputs": [],
   "source": []
  }
 ],
 "metadata": {
  "kernelspec": {
   "display_name": "Python 3 (ipykernel)",
   "language": "python",
   "name": "python3"
  },
  "language_info": {
   "codemirror_mode": {
    "name": "ipython",
    "version": 3
   },
   "file_extension": ".py",
   "mimetype": "text/x-python",
   "name": "python",
   "nbconvert_exporter": "python",
   "pygments_lexer": "ipython3",
   "version": "3.9.5"
  }
 },
 "nbformat": 4,
 "nbformat_minor": 5
}
